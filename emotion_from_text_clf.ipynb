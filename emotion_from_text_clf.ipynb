{
 "cells": [
  {
   "cell_type": "code",
   "execution_count": 1,
   "metadata": {},
   "outputs": [],
   "source": [
    "import pandas as pd\n",
    "import numpy as np\n",
    "from transformers import RobertaTokenizerFast, TFRobertaForSequenceClassification, pipeline\n",
    "from sklearn.metrics import confusion_matrix, accuracy_score\n",
    "from seaborn import heatmap"
   ]
  },
  {
   "cell_type": "code",
   "execution_count": 2,
   "metadata": {},
   "outputs": [
    {
     "name": "stdout",
     "output_type": "stream",
     "text": [
      "model ready\n"
     ]
    }
   ],
   "source": [
    "try:\n",
    "    classifier = pipeline('sentiment-analysis', model='distilroberta_emo')\n",
    "except FileNotFoundError as e:\n",
    "    print(e, 'Downloading weigths...')\n",
    "    classifier = pipeline(\"sentiment-analysis\",model=\"j-hartmann/emotion-english-distilroberta-base\")\n",
    "\n",
    "print('model ready')"
   ]
  },
  {
   "cell_type": "code",
   "execution_count": 3,
   "metadata": {},
   "outputs": [],
   "source": [
    "dataset = pd.read_csv('sth_senti.csv', sep='\\t', header=None)\n",
    "dataset.columns = ['id', 'content', 'sentiment', 'DROPIT']\n",
    "dataset.drop('DROPIT', axis=1, inplace=True)\n",
    "dataset.set_index('id', inplace=True)"
   ]
  },
  {
   "cell_type": "code",
   "execution_count": 6,
   "metadata": {},
   "outputs": [],
   "source": [
    "sample = dataset.sample(100)\n",
    "output = [classifier(txt) for txt in sample.content.values.tolist()]\n",
    "sample['emo'] = [[p['label'] for p in pred][np.argmax([p['score'] for p in pred])] for pred in output]"
   ]
  },
  {
   "cell_type": "code",
   "execution_count": 7,
   "metadata": {},
   "outputs": [
    {
     "data": {
      "text/plain": [
       "0.77"
      ]
     },
     "execution_count": 7,
     "metadata": {},
     "output_type": "execute_result"
    }
   ],
   "source": [
    "accuracy_score(sample.sentiment, sample.emo)"
   ]
  },
  {
   "cell_type": "code",
   "execution_count": 9,
   "metadata": {},
   "outputs": [],
   "source": [
    "label_map = dict([(k, v) for v, k in enumerate(sample.emo.value_counts().index.tolist())])"
   ]
  },
  {
   "cell_type": "code",
   "execution_count": 10,
   "metadata": {},
   "outputs": [
    {
     "data": {
      "text/plain": [
       "<AxesSubplot:>"
      ]
     },
     "execution_count": 10,
     "metadata": {},
     "output_type": "execute_result"
    },
    {
     "data": {
      "image/png": "[encoded data removed]",
      "text/plain": [
       "<Figure size 432x288 with 2 Axes>"
      ]
     },
     "metadata": {
      "needs_background": "light"
     },
     "output_type": "display_data"
    }
   ],
   "source": [
    "cm = confusion_matrix(sample.sentiment.map(label_map), sample.emo.map(label_map))\n",
    "heatmap(cm, annot=True, fmt='d')"
   ]
  },
  {
   "cell_type": "code",
   "execution_count": 11,
   "metadata": {},
   "outputs": [
    {
     "name": "stderr",
     "output_type": "stream",
     "text": [
      "C:\\Users\\anton\\AppData\\Local\\Temp\\ipykernel_17208\\1717034821.py:1: RuntimeWarning: invalid value encountered in true_divide\n",
      "  label_map, 'acc', cm.diagonal() / cm.sum(axis=1), 'prec', cm.diagonal() / cm.sum(axis=0)\n"
     ]
    },
    {
     "data": {
      "text/plain": [
       "({'fear': 0,\n",
       "  'anger': 1,\n",
       "  'joy': 2,\n",
       "  'sadness': 3,\n",
       "  'neutral': 4,\n",
       "  'surprise': 5,\n",
       "  'disgust': 6},\n",
       " 'acc',\n",
       " array([0.83333333, 0.73076923, 0.8       , 0.68421053,        nan,\n",
       "               nan,        nan]),\n",
       " 'prec',\n",
       " array([0.71428571, 0.9047619 , 1.        , 0.76470588, 0.        ,\n",
       "        0.        , 0.        ]))"
      ]
     },
     "execution_count": 11,
     "metadata": {},
     "output_type": "execute_result"
    }
   ],
   "source": [
    "label_map, 'acc', cm.diagonal() / cm.sum(axis=1), 'prec', cm.diagonal() / cm.sum(axis=0)"
   ]
  },
  {
   "cell_type": "code",
   "execution_count": null,
   "metadata": {},
   "outputs": [],
   "source": []
  }
 ],
 "metadata": {
  "interpreter": {
   "hash": "4891ca856c9b0ce2e4575d3dbe3f7fea92e25931a8a9aa4ff64a73277cd5eb3c"
  },
  "kernelspec": {
   "display_name": "Python 3.9.7 64-bit ('hack': venv)",
   "language": "python",
   "name": "python3"
  },
  "language_info": {
   "codemirror_mode": {
    "name": "ipython",
    "version": 3
   },
   "file_extension": ".py",
   "mimetype": "text/x-python",
   "name": "python",
   "nbconvert_exporter": "python",
   "pygments_lexer": "ipython3",
   "version": "3.9.7"
  },
  "orig_nbformat": 4
 },
 "nbformat": 4,
 "nbformat_minor": 2
}
